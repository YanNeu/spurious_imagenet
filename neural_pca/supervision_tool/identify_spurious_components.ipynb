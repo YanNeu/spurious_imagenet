{
 "cells": [
  {
   "cell_type": "code",
   "execution_count": 10,
   "id": "ac0f9981",
   "metadata": {},
   "outputs": [],
   "source": [
    "from label_components import label_vis"
   ]
  },
  {
   "cell_type": "code",
   "execution_count": 13,
   "id": "7c0720c5",
   "metadata": {},
   "outputs": [],
   "source": [
    "visualisation_dir = f'/Dropbox/spurious_vce/results'\n",
    "save_suffix = 'test'\n",
    "target_class = 0"
   ]
  },
  {
   "cell_type": "code",
   "execution_count": 14,
   "id": "5e79ad6b",
   "metadata": {},
   "outputs": [],
   "source": [
    "run_comp, current = label_vis(visualisation_dir, target_class=0, save_suffix=save_suffix)"
   ]
  },
  {
   "cell_type": "code",
   "execution_count": 16,
   "id": "03dbe745",
   "metadata": {},
   "outputs": [
    {
     "name": "stdout",
     "output_type": "stream",
     "text": [
      "{3: 'spurious', 17: 'spurious', 2: 'spurious', 0: 'spurious', 4: 'spurious', 13: 'spurious', 42: 'spurious', 22: 'spurious', 9: 'spurious', 8: 'spurious'}\n",
      "9 / 9\n"
     ]
    }
   ],
   "source": [
    "run_comp(current)"
   ]
  },
  {
   "cell_type": "code",
   "execution_count": 26,
   "id": "ead82990",
   "metadata": {},
   "outputs": [
    {
     "data": {
      "text/plain": [
       "{'spurious': [3, 17, 2, 0, 4, 13, 42, 22, 9, 8],\n",
       " 'not spurious': [],\n",
       " 'inconsistent': []}"
      ]
     },
     "execution_count": 26,
     "metadata": {},
     "output_type": "execute_result"
    }
   ],
   "source": [
    "# load results\n",
    "result_dict = np.load(visualisation_dir+'/000_tench/vis_labels_test.npy', allow_pickle=True)[()]"
   ]
  },
  {
   "cell_type": "code",
   "execution_count": null,
   "id": "aeb1d884",
   "metadata": {},
   "outputs": [],
   "source": []
  }
 ],
 "metadata": {
  "kernelspec": {
   "display_name": "Python 3 (ipykernel)",
   "language": "python",
   "name": "python3"
  },
  "language_info": {
   "codemirror_mode": {
    "name": "ipython",
    "version": 3
   },
   "file_extension": ".py",
   "mimetype": "text/x-python",
   "name": "python",
   "nbconvert_exporter": "python",
   "pygments_lexer": "ipython3",
   "version": "3.8.13"
  }
 },
 "nbformat": 4,
 "nbformat_minor": 5
}
